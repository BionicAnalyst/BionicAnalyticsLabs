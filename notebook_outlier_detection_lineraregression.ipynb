{
 "cells": [
  {
   "cell_type": "markdown",
   "metadata": {},
   "source": [
    "# Outlier Detection Using Linear Regression in Tableau\n",
    "\n",
    "**Objective:** Identify outliers in your product data by using linear regression to model the relationship between volume and mass."
   ]
  },
  {
   "cell_type": "markdown",
   "metadata": {},
   "source": [
    "## Steps:\n",
    "\n",
    "### 1. Calculate Slope and Intercept:\n",
    "\n",
    "The Slope (m) and Intercept (b) are derived from the least squares method to minimize the sum of squared differences between observed values and predicted values."
   ]
  },
  {
   "cell_type": "markdown",
   "metadata": {},
   "source": [
    "#### Slope:\n",
    "\n",
    "```tableau\n",
    "{fixed [category]: \n",
    "(COUNT([Volume]) * SUM([Weight] * [Volume]) - SUM([Volume]) * SUM([Weight])) /\n",
    "(COUNT([Volume]) * SUM([Weight] * [Weight]) - SUM([Weight]) * SUM([Weight]))\n",
    "}\n",
    "```\n",
    "\n",
    "**Mathematical Principle:** This formula is derived from the ordinary least squares (OLS) method where `𝑚 = (n∑xy - ∑x∑y) / (n∑x² - (∑x)²)`."
   ]
  },
  {
   "cell_type": "markdown",
   "metadata": {},
   "source": [
    "#### Intercept:\n",
    "\n",
    "```tableau\n",
    "{fixed [category]: \n",
    "(SUM([Volume]) * SUM([Weight]) - COUNT([Volume]) * SUM([Weight] * [Volume])) /\n",
    "(COUNT([Volume]) * SUM([Weight] * [Weight]) - SUM([Weight]) * SUM([Weight]))\n",
    "}\n",
    "```\n",
    "\n",
    "**Mathematical Principle:** This formula calculates `𝑏 = (∑y - m∑x) / n` where `𝑏` is the intercept in the OLS method."
   ]
  },
  {
   "cell_type": "markdown",
   "metadata": {},
   "source": [
    "### 2. Calculate Distance from Linear Regression:\n",
    "\n",
    "Distance is the perpendicular distance from a data point to the regression line."
   ]
  },
  {
   "cell_type": "markdown",
   "metadata": {},
   "source": [
    "#### Distance:\n",
    "\n",
    "```tableau\n",
    "abs([Slope] * [Weight] - [Volume] + [Intercept]) /\n",
    "SQRT([Slope] * [Slope] + 1)\n",
    "```\n",
    "\n",
    "**Mathematical Principle:** This measures the perpendicular distance from a point to the regression line, where `|𝑚𝑥 - 𝑦 + 𝑏| / √(𝑚² + 1)` represents the distance from a point `(𝑥, 𝑦)` to the line `𝑦 = 𝑚𝑥 + 𝑏`."
   ]
  },
  {
   "cell_type": "markdown",
   "metadata": {},
   "source": [
    "### 3. Determine Outliers:\n",
    "\n",
    "Outliers are determined by comparing the distance to a sensitivity threshold."
   ]
  },
  {
   "cell_type": "markdown",
   "metadata": {},
   "source": [
    "#### Criteria:\n",
    "\n",
    "```tableau\n",
    "[Distance from linear regression] * [Distance from linear regression] >\n",
    "[Sensitivity] * {fixed [category]: AVG([Distance from linear regression] * [Distance from linear regression])}\n",
    "```\n",
    "\n",
    "**Mathematical Principle:** The squared distance is compared to a sensitivity threshold. Outliers are identified if the squared distance exceeds a multiple of the average squared distance, helping account for variability in the dataset."
   ]
  },
  {
   "cell_type": "markdown",
   "metadata": {},
   "source": [
    "#### Explanation:\n",
    "\n",
    "Slope and Intercept are estimated using the least squares method, minimizing the sum of squared residuals. Distance measures how far a data point deviates from the predicted value, following the principles of linear regression. The Outlier Criterion identifies significant deviations from the regression model by comparing the squared distance to a scaled average distance. This approach helps in flagging data points that do not conform to the expected relationship between volume and weight."
   ]
  }
 ],
 "metadata": {
  "kernelspec": {
   "display_name": "Python 3",
   "language": "python",
   "name": "python3"
  },
  "language_info": {
   "name": "python"
  }
 },
 "nbformat": 4,
 "nbformat_minor": 2
}
