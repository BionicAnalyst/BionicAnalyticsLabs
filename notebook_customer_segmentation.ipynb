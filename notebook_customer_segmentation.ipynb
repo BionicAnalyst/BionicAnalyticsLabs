{
 "cells": [
  {
   "cell_type": "markdown",
   "metadata": {},
   "source": [
    "# Customer Segmentation in Retail Using RFM and K-Means Clustering\n",
    "\n",
    "Analyzing customer behavior is crucial for retail businesses. This notebook demonstrates how to perform customer segmentation using RFM (Recency, Frequency, Monetary) analysis and K-Means clustering."
   ]
  },
  {
   "cell_type": "markdown",
   "metadata": {},
   "source": [
    "## Data Preparation"
   ]
  },
  {
   "cell_type": "markdown",
   "metadata": {},
   "source": [
    "### Loading Data"
   ]
  },
  {
   "cell_type": "code",
   "execution_count": null,
   "metadata": {},
   "outputs": [],
   "source": [
    "import pandas as pd\n",
    "import numpy as np\n",
    "\n",
    "# Loading the dataset and adding new columns for status and total amount\n",
    "file_path = 'C:/Users/5060916/Desktop/onlinesales.csv'\n",
    "df = pd.read_csv(file_path, quotechar='\"', delimiter=',')\n",
    "df['status'] = df['InvoiceNo'].apply(lambda x: 'canceled' if x.startswith('C') else 'active')\n",
    "df['InvoiceDate'] = pd.to_datetime(df['InvoiceDate'], format='%m/%d/%y %H:%M')\n",
    "df['TotalAmount'] = df['Quantity'] * df['UnitPrice']"
   ]
  },
  {
   "cell_type": "markdown",
   "metadata": {},
   "source": [
    "### Filtering Active Invoices"
   ]
  },
  {
   "cell_type": "code",
   "execution_count": null,
   "metadata": {},
   "outputs": [],
   "source": [
    "# We only keep invoices that are active (not canceled)\n",
    "active_invoices = df[df['status'] != 'canceled']"
   ]
  },
  {
   "cell_type": "markdown",
   "metadata": {},
   "source": [
    "## Data Cleaning and Analysis"
   ]
  },
  {
   "cell_type": "markdown",
   "metadata": {},
   "source": [
    "### Null CustomerID Analysis\n",
    "\n",
    "**Null Ratio:** 16% of invoices have null CustomerIDs.\n",
    "\n",
    "**Country Analysis:** No significant correlation with missing CustomerIDs."
   ]
  },
  {
   "cell_type": "markdown",
   "metadata": {},
   "source": [
    "### Handling Negative and Zero Amounts"
   ]
  },
  {
   "cell_type": "code",
   "execution_count": null,
   "metadata": {},
   "outputs": [],
   "source": [
    "# We remove transactions with zero or negative amounts and null CustomerIDs\n",
    "active_invoices = active_invoices[active_invoices['TotalAmount'] > 0]\n",
    "active_invoices = active_invoices[~active_invoices['CustomerID'].isnull()]"
   ]
  },
  {
   "cell_type": "markdown",
   "metadata": {},
   "source": [
    "### Removing Non-Item Stock Codes"
   ]
  },
  {
   "cell_type": "code",
   "execution_count": null,
   "metadata": {},
   "outputs": [],
   "source": [
    "# We exclude non-item codes like postage and bank charges\n",
    "active_invoices = active_invoices[~active_invoices['StockCode'].isin(['POST','DOT','BANK CHARGES'])]"
   ]
  },
  {
   "cell_type": "markdown",
   "metadata": {},
   "source": [
    "## RFM Analysis"
   ]
  },
  {
   "cell_type": "markdown",
   "metadata": {},
   "source": [
    "### Calculating RFM Metrics"
   ]
  },
  {
   "cell_type": "code",
   "execution_count": null,
   "metadata": {},
   "outputs": [],
   "source": [
    "# Recency, Frequency, and Monetary calculations for each customer\n",
    "analysis_date = active_invoices['InvoiceDate'].max()\n",
    "rfm = active_invoices.groupby('CustomerID').agg({\n",
    "    'InvoiceDate': lambda x: (analysis_date - x.max()).days,  # Recency\n",
    "    'InvoiceNo': 'nunique',  # Frequency\n",
    "    'UnitPrice': lambda x: np.sum(x * active_invoices.loc[x.index, 'Quantity'])  # Monetary\n",
    "}).reset_index()\n",
    "rfm.columns = ['CustomerID', 'Recency', 'Frequency', 'Monetary']"
   ]
  },
  {
   "cell_type": "markdown",
   "metadata": {},
   "source": [
    "## Clustering"
   ]
  },
  {
   "cell_type": "markdown",
   "metadata": {},
   "source": [
    "### Data Normalization and Clustering"
   ]
  },
  {
   "cell_type": "markdown",
   "id": "2479b41b",
   "metadata": {},
   "source": [
    "The StandardScaler is used to normalize features by removing the mean and scaling them to unit variance. This is important in algorithms like K-Means clustering because:\n",
    "\n",
    "Equal Weight to Features: K-Means relies on the Euclidean distance between points, and without scaling, features with larger ranges (e.g., Monetary) would dominate the clustering process, while features with smaller ranges (e.g., Recency or Frequency) would be undervalued. Scaling ensures that all features contribute equally to the clustering.\n",
    "\n",
    "Improved Convergence: K-Means converges more efficiently when the data is scaled, leading to better results in fewer iterations."
   ]
  },
  {
   "cell_type": "code",
   "execution_count": null,
   "metadata": {},
   "outputs": [],
   "source": [
    "# Normalizing the RFM data for clustering\n",
    "from sklearn.preprocessing import StandardScaler\n",
    "from sklearn.cluster import KMeans\n",
    "\n",
    "scaler = StandardScaler()\n",
    "rfm_normalized = scaler.fit_transform(rfm[['Recency', 'Frequency', 'Monetary']])\n",
    "\n",
    "# Applying K-Means clustering to segment customers\n",
    "kmeans = KMeans(n_clusters=4, init='k-means++', max_iter=300, n_init=10, random_state=0)\n",
    "rfm['Cluster'] = kmeans.fit_predict(rfm_normalized)"
   ]
  },
  {
   "cell_type": "markdown",
   "metadata": {},
   "source": [
    "**Cluster Summary:**\n",
    "- Cluster 0: Core Customers\n",
    "- Cluster 1: New Customers\n",
    "- Cluster 2: Loyal Customers\n",
    "- Cluster 3: Low Priority Customers"
   ]
  },
  {
   "cell_type": "markdown",
   "metadata": {},
   "source": [
    "## Segmenting Using RFM Scores"
   ]
  },
  {
   "cell_type": "markdown",
   "metadata": {},
   "source": [
    "### Calculating RFM Scores"
   ]
  },
  {
   "cell_type": "code",
   "execution_count": null,
   "metadata": {},
   "outputs": [],
   "source": [
    "# Splitting RFM data into quartiles and assigning scores (higher is better)\n",
    "r_quarters = rfm['Recency'].quantile(q=[0.0, 0.25,0.5,0.75, 1]).to_list()\n",
    "f_quarters = rfm['Frequency'].quantile(q=[0.0, 0.4,0.6,0.75, 1]).to_list()\n",
    "m_quarters = rfm['Monetary'].quantile(q=[0.0, 0.25,0.5,0.75, 1]).to_list()\n",
    "\n",
    "rfm['r_score'] = pd.cut(rfm['Recency'], bins=r_quarters, labels=[4,3,2,1],include_lowest=True)\n",
    "rfm['f_score'] = pd.cut(rfm['Frequency'], bins=f_quarters, labels=[1,2,3,4],include_lowest=True)\n",
    "rfm['m_score'] = pd.cut(rfm['Monetary'], bins=m_quarters, labels=[1,2,3,4],include_lowest=True)\n",
    "rfm['rfm_score'] = rfm['r_score'].astype(str) + rfm['f_score'].astype(str) + rfm['m_score'].astype(str)"
   ]
  },
  {
   "cell_type": "markdown",
   "metadata": {},
   "source": [
    "### RFM Segment Mapping"
   ]
  },
  {
   "cell_type": "code",
   "execution_count": null,
   "metadata": {},
   "outputs": [],
   "source": [
    "# Mapping the RFM scores to meaningful segments for better interpretation\n",
    "agg_map = {\n",
    "    r'444': '01_core',\n",
    "    r'[3-4][3-4][3-4]': '02_loyal_large',\n",
    "    r'[3-4][3-4][1-2]': '02_loyal_small',\n",
    "    r'[3-4][1-2][3-4]': '03_new_large',\n",
    "    r'[3-4][1-2][1-2]': '03_new_small',\n",
    "    r'[1-2][3-4][3-4]': '04_lost_loyal_large',\n",
    "    r'[1-2][3-4][1-2]': '04_lost_loyal_small',\n",
    "    r'[1-2][1-2][3-4]': '05_promising',\n",
    "    r'[1-2][1-2][1-2]': '06_low_priority',\n",
    "}\n",
    "\n",
    "rfm['RFM_segment'] = rfm['rfm_score'].replace(agg_map, regex=True)"
   ]
  },
  {
   "cell_type": "markdown",
   "metadata": {},
   "source": [
    "## Final note"
   ]
  },
  {
   "cell_type": "markdown",
   "id": "148bee80",
   "metadata": {},
   "source": [
    "Clustering and RFM segmentation provide insights into customer behavior, aiding in targeted marketing strategies."
   ]
  }
 ],
 "metadata": {
  "kernelspec": {
   "display_name": "Python 3",
   "language": "python",
   "name": "python3"
  },
  "language_info": {
   "name": "python"
  }
 },
 "nbformat": 4,
 "nbformat_minor": 5
}
